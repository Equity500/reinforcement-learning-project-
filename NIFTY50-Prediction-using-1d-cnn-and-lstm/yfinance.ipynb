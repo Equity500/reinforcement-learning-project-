# Importing necessary libraries
import yfinance as yf
import numpy as np
import pandas as pd
import matplotlib.pyplot as plt
from sklearn.preprocessing import MinMaxScaler
from tensorflow.keras.models import Sequential
from tensorflow.keras.layers import LSTM, Dense, Dropout
from sklearn.model_selection import train_test_split

# Downloading stock data from Yahoo Finance
stock_symbol = 'AAPL'  # Change the symbol for different stock
start_date = '2015-01-01'
end_date = '2025-01-01'

data = yf.download(stock_symbol, start=start_date, end=end_date)

# Visualizing the stock data
plt.figure(figsize=(12,6))
plt.plot(data['Close'], label='Close Price')
plt.title(f'{stock_symbol} Stock Price History')
plt.xlabel('Date')
plt.ylabel('Price')
plt.legend()
plt.show()

# Preprocessing the data
# Using the 'Close' price for prediction
data = data[['Close']]

# Scaling the data using MinMaxScaler
scaler = MinMaxScaler(feature_range=(0, 1))
scaled_data = scaler.fit_transform(data)

# Create a dataset with a sliding window
look_back = 60  # Number of previous days to use for prediction

def create_dataset(data, look_back):
    X, y = [], []
    for i in range(look_back, len(data)):
        X.append(data[i-look_back:i, 0])  # Last 'look_back' days' prices
        y.append(data[i, 0])  # Current day's price
    return np.array(X), np.array(y)

X, y = create_dataset(scaled_data, look_back)

# Reshaping the data for LSTM (samples, time steps, features)
X = X.reshape(X.shape[0], X.shape[1], 1)

# Splitting the data into training and testing sets
X_train, X_test, y_train, y_test = train_test_split(X, y, test_size=0.2, shuffle=False)

# Building the LSTM model
model = Sequential()

# Adding LSTM layers with dropout to prevent overfitting
model.add(LSTM(units=50, return_sequences=True, input_shape=(X_train.shape[1], 1)))
model.add(Dropout(0.2))

model.add(LSTM(units=50, return_sequences=False))
model.add(Dropout(0.2))

# Adding the output layer
model.add(Dense(units=1))

# Compiling the model
model.compile(optimizer='adam', loss='mean_squared_error')

# Training the model
history = model.fit(X_train, y_train, epochs=20, batch_size=32, validation_data=(X_test, y_test))

# Plotting the training loss
plt.figure(figsize=(12,6))
plt.plot(history.history['loss'], label='Training Loss')
plt.plot(history.history['val_loss'], label='Validation Loss')
plt.title(f'{stock_symbol} LSTM Model Loss')
plt.xlabel('Epochs')
plt.ylabel('Loss')
plt.legend()
plt.show()

# Making predictions and inverse scaling
predicted_stock_price = model.predict(X_test)
predicted_stock_price = scaler.inverse_transform(predicted_stock_price)

# Inverse transform the actual values
actual_stock_price = scaler.inverse_transform(y_test.reshape(-1, 1))

# Plotting the results
plt.figure(figsize=(12,6))
plt.plot(actual_stock_price, label='Actual Stock Price')
plt.plot(predicted_stock_price, label='Predicted Stock Price')
plt.title(f'{stock_symbol} Stock Price Prediction')
plt.xlabel('Time')
plt.ylabel('Price')
plt.legend()
plt.show()

# Evaluate the model's performance using RMSE
from sklearn.metrics import mean_squared_error
import math

rmse = math.sqrt(mean_squared_error(actual_stock_price, predicted_stock_price))
print(f'Root Mean Squared Error (RMSE): {rmse}')
